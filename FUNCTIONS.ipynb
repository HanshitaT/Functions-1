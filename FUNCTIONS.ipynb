{
  "nbformat": 4,
  "nbformat_minor": 0,
  "metadata": {
    "colab": {
      "provenance": []
    },
    "kernelspec": {
      "name": "python3",
      "display_name": "Python 3"
    },
    "language_info": {
      "name": "python"
    }
  },
  "cells": [
    {
      "cell_type": "markdown",
      "source": [
        "# FUNCTIONS"
      ],
      "metadata": {
        "id": "Mdu5sOer4_Rc"
      }
    },
    {
      "cell_type": "markdown",
      "source": [
        "1. What is the difference between a function and a method in Python?\n",
        "  - # 1. What is the difference between a function and a method in Python?\n",
        "\n",
        "# Function:\n",
        "# A function is a block of code that performs a specific task.\n",
        "# It is defined using the def keyword.\n",
        "# It can be called independently, without any object or class instance.\n",
        "# It promotes code reusability by allowing you to call the same function from multiple places in your program.\n",
        "\n",
        "# Method:\n",
        "# A method is also a block of code that performs a specific task.\n",
        "# It is similar to a function, but it is associated with an object or a class.\n",
        "# It is defined within a class and is called on an object of that class using the dot operator.\n",
        "# It provides behavior specific to the object or class it is associated with.\n",
        "\n",
        "# Key Differences:\n",
        "# Feature\tFunction\tMethod\n",
        "# Definition\tDefined using the def keyword.\tDefined within a class.\n",
        "# Calling\tCalled independently.\tCalled on an object using the dot operator.\n",
        "# Association\tNot associated with any object or class.\tAssociated with an object or class.\n",
        "# Purpose\tPromotes code reusability.\tProvides object-specific behavior.\n",
        "\n",
        "# Example:\n",
        "# Function\n",
        "def greet(name):\n",
        "  print(\"Hello, \" + name + \"!\")\n",
        "\n",
        "# Method\n",
        "class Dog:\n",
        "  def bark(self):\n",
        "    print(\"Woof!\")\n",
        "\n",
        "# Calling the function\n",
        "greet(\"Alice\")\n",
        "\n",
        "# Calling the method\n",
        "my_dog = Dog()\n",
        "my_dog.bark()\n",
        "# Use code with caution\n",
        "# In this example, greet is a function that takes a name as input and prints a greeting.\n",
        "# bark is a method defined within the Dog class, and it is called on an instance of the\n",
        "# Dog class (my_dog) to make the dog bark.\n",
        "\n",
        "\n",
        "2. Explain the concept of function arguments and parameters in Python\n",
        "  - Parameters\n",
        "\n",
        "Definition: Parameters are the placeholders defined within the parentheses of a function declaration. They act as variables that receive values when the function is called.\n",
        "Purpose: They specify what kind of information a function expects to work with.\n",
        "Example:\n",
        "\n",
        "def greet(name, age):  # 'name' and 'age' are parameters\n",
        "    print(f\"Hello, {name}! You are {age} years old.\")\n",
        "Use code with caution\n",
        "Arguments\n",
        "\n",
        "Definition: Arguments are the actual values passed to a function when it is called. These values are assigned to the corresponding parameters within the function.\n",
        "Purpose: They provide the specific data the function will operate on.\n",
        "Example:\n",
        "\n",
        "greet(\"Alice\", 30)  # \"Alice\" and 30 are arguments\n",
        "Use code with caution\n",
        "In this example:\n",
        "\n",
        "When greet is defined, name and age are its parameters.\n",
        "When greet(\"Alice\", 30) is called:\n",
        "\"Alice\" is passed as an argument and assigned to the parameter name.\n",
        "30 is passed as an argument and assigned to the parameter age.\n",
        "Key Differences & Relationship\n",
        "\n",
        "Feature\tParameter\tArgument\n",
        "Definition\tPlaceholder in function definition\tActual value passed to the function\n",
        "Purpose\tSpecifies the type of input the function expects\tProvides the data for the function to work with\n",
        "Timing\tDefined when the function is created\tProvided when the function is called\n",
        "Think of it this way:\n",
        "\n",
        "Parameters are like parking spaces in a garage. They are designated spots waiting for cars to occupy them.\n",
        "Arguments are like the cars themselves. They fill the parking spaces (parameters) when the garage (function) is used.\n",
        "Important Notes:\n",
        "\n",
        "Positional Arguments: Arguments passed in the order the parameters are defined.\n",
        "Keyword Arguments: Arguments passed with their parameter names (e.g., greet(age=30, name=\"Alice\")).\n",
        "Default Arguments: Values assigned to parameters in the function definition, used if no argument is provided for that parameter.\n",
        "\n",
        "3. What are the different ways to define and call a function in Python?\n",
        "  -  Defining Functions\n",
        "1. Using def keyword:\n",
        "This is the most common way to define a function.\n",
        "\n",
        "\n",
        "def function_name(parameter1, parameter2, ...):\n",
        "    \"\"\"Docstring explaining the function's purpose.\"\"\"\n",
        "    # Function body: code that performs the task\n",
        "    # ...\n",
        "    return value  # Optional: returns a value\n",
        "Use code with caution\n",
        "def: The keyword used to start a function definition.\n",
        "function_name: A descriptive name for your function (following Python naming conventions).\n",
        "parameter1, parameter2, ...: Placeholders for values the function will receive (optional).\n",
        "\"\"\"Docstring\"\"\": A string describing the function's purpose (highly recommended).\n",
        "Function Body: The code that performs the function's task.\n",
        "return: Used to send a value back from the function (optional).\n",
        "Example:\n",
        "\n",
        "\n",
        "def add_numbers(x, y):\n",
        "    \"\"\"Adds two numbers and returns the sum.\"\"\"\n",
        "    sum = x + y\n",
        "    return sum\n",
        "Use code with caution\n",
        "2. Lambda Functions (Anonymous Functions):\n",
        "These are small, one-line functions created using the lambda keyword.\n",
        "\n",
        "\n",
        "lambda arguments: expression\n",
        "Use code with caution\n",
        "lambda: Keyword indicating a lambda function.\n",
        "arguments: Comma-separated input values.\n",
        "expression: A single expression that is evaluated and returned.\n",
        "Example:\n",
        "\n",
        "\n",
        "square = lambda x: x * x  # A lambda function to square a number\n",
        "Use code with caution\n",
        "Calling Functions\n",
        "1. Using the function name and parentheses:\n",
        "\n",
        "function_name(argument1, argument2, ...)\n",
        "\n",
        "#4. What is the purpose of the `return` statement in a Python function?\n",
        "  - Okay, let's discuss the purpose of the return statement in a Python function:\n",
        "\n",
        "The return statement has two main purposes:\n",
        "\n",
        "Terminating the Function: When a return statement is encountered within a function, it immediately stops the execution of the function and returns control back to the caller.\n",
        "\n",
        "Returning a Value: The primary role of return is to send a value (or values) back to the part of the program that called the function. This value can be used for further calculations, assigned to a variable, or simply displayed.\n",
        "\n",
        "How it works:\n",
        "\n",
        "Caller: A part of your code calls a function.\n",
        "Function Execution: The function starts running its code.\n",
        "return Statement: If the function encounters a return statement:\n",
        "The function stops executing.\n",
        "The specified value (if any) is sent back to the caller.\n",
        "Caller Resumes: The caller receives the value (if returned) and continues executing.\n",
        "Example\n",
        "\n",
        "\n",
        "def calculate_area(length, width):\n",
        "    \"\"\"Calculates the area of a rectangle.\"\"\"\n",
        "    area = length * width\n",
        "    return area\n",
        "\n",
        "# Calling the function and storing the returned value\n",
        "rectangle_area = calculate_area(5, 10)\n",
        "print(rectangle_area)  # Output: 50\n",
        "Use code with caution\n",
        "In this example:\n",
        "\n",
        "calculate_area is called with arguments 5 and 10.\n",
        "The function calculates the area and assigns it to the variable area.\n",
        "The return area statement sends the value of area back to the caller.\n",
        "The caller (the line rectangle_area = calculate_area(5, 10)) assigns the returned value to the variable rectangle_area.\n",
        "Important Considerations:\n",
        "\n",
        "No return: If a function doesn't have an explicit return statement, it implicitly returns None.\n",
        "Multiple Values: You can return multiple values from a function by separating them with commas. They are returned as a tuple.\n",
        "return vs. print: return sends a value back to the caller, while print displays something on the console. They are fundamentally different.\n",
        "\n",
        "5. What are iterators in Python and how do they differ from iterables?\n",
        "  - Iterables\n",
        "Definition: An iterable is any Python object capable of returning its members one at a time, allowing it to be iterated over in a for loop or other iteration contexts.\n",
        "\n",
        "Key Feature: Iterables have an __iter__ method that returns an iterator.\n",
        "\n",
        "Examples: Lists, tuples, strings, dictionaries, sets, files, and generators are common examples of iterables.\n",
        "\n",
        "Iterators\n",
        "Definition: An iterator is an object that represents a stream of data. It is used to get the next element in the sequence using the __next__ method.\n",
        "\n",
        "Key Feature: Iterators have a __next__ method that returns the next item in the sequence. They also have an __iter__ method that returns themselves, allowing them to be used in for loops directly.\n",
        "\n",
        "Purpose: Iterators provide a way to access elements of an iterable one by one without needing to know the underlying structure of the iterable.\n",
        "\n",
        "Key Differences\n",
        "Feature\tIterable\tIterator\n",
        "Definition\tAn object you can iterate over.\tAn object that represents a stream of data.\n",
        "Methods\tHas __iter__ to return an iterator.\tHas __iter__ (returns itself) and __next__ to get the next item.\n",
        "Usage\tUsed in for loops or with iter() function.\tUsed to get the next element in a sequence using next().\n",
        "State\tDoes not store iteration state.\tStores iteration state, remembers where it is in the sequence.\n",
        "How They Work Together\n",
        "When you iterate over an iterable (e.g., in a for loop):\n",
        "The __iter__ method of the iterable is called to get an iterator.\n",
        "The __next__ method of the iterator is called repeatedly to get each item.\n",
        "When there are no more items, a StopIteration exception is raised, ending the iteration.\n",
        "Example\n",
        "\n",
        "my_list = [1, 2, 3, 4, 5]  # my_list is an iterable\n",
        "\n",
        "# Get an iterator from the list\n",
        "my_iterator = iter(my_list)  \n",
        "\n",
        "# Iterate using next()\n",
        "print(next(my_iterator))  # Output: 1\n",
        "print(next(my_iterator))  # Output: 2\n",
        "# ... and so on\n",
        "\n",
        "# Iterate using a for loop (implicitly uses the iterator)\n",
        "for item in my_list:\n",
        "    print(item)\n",
        "Use code with caution\n",
        "In Summary\n",
        "Iterables are objects that can be iterated over.\n",
        "Iterators are objects that represent a stream of data and keep track of the iteration state.\n",
        "You get an iterator from an iterable using the iter() function or implicitly when using a for loop.\n",
        "Iterators are used to get the next item in the sequence using the next() function.\n",
        "\n",
        "6. Explain the concept of generators in Python and how they are defined.\n",
        "  - Generators\n",
        "Generators are a special type of iterator in Python that provide a convenient and memory-efficient way to create iterators. They are defined like regular functions but use the yield keyword instead of return to produce a sequence of values one at a time.\n",
        "\n",
        "Key Features\n",
        "Lazy Evaluation: Generators produce values on demand, meaning they only generate the next value when it is requested. This makes them very memory-efficient, especially when dealing with large datasets.\n",
        "Iteration: You can iterate over a generator using a for loop or by calling the next() function.\n",
        "Statefulness: Generators maintain their internal state between iterations, allowing them to remember where they left off.\n",
        "Simplicity: Defining generators can be simpler than creating custom iterator classes.\n",
        "Defining Generators\n",
        "There are two main ways to define generators in Python:\n",
        "\n",
        "1. Generator Functions\n",
        "These are functions that use the yield keyword. When called, they return a generator object.\n",
        "\n",
        "\n",
        "def my_generator(n):\n",
        "    \"\"\"Generates numbers from 0 to n-1.\"\"\"\n",
        "    for i in range(n):\n",
        "        yield i\n",
        "\n",
        "# Create a generator object\n",
        "gen = my_generator(5)\n",
        "\n",
        "# Iterate over the generator\n",
        "for num in gen:\n",
        "    print(num)  # Output: 0, 1, 2, 3, 4\n",
        "Use code with caution\n",
        "In this example:\n",
        "\n",
        "my_generator is a generator function.\n",
        "The yield i statement produces a value and pauses the function's execution.\n",
        "When next() is called (implicitly in the for loop), the function resumes from where it left off and generates the next value.\n",
        "2. Generator Expressions\n",
        "These are similar to list comprehensions but use parentheses instead of square brackets. They create generator objects directly.\n",
        "\n",
        "\n",
        "squares = (x * x for x in range(1, 6))  # Generator expression\n",
        "\n",
        "for square in squares:\n",
        "    print(square)  # Output: 1, 4, 9, 16, 25\n",
        "Use code with caution\n",
        "Generator expressions are concise and often used for simple iterations.\n",
        "\n",
        "Benefits of Generators\n",
        "Memory Efficiency: Generators only store the current state, not the entire sequence, making them ideal for large datasets.\n",
        "Readability: Generator functions can be more readable and easier to understand than custom iterators.\n",
        "Flexibility: Generators can be used in various contexts, such as for loop iterations, list comprehensions, and function arguments.\n",
        "Use Cases\n",
        "Generating infinite sequences\n",
        "Processing large files or datasets\n",
        "Implementing custom iterators\n",
        "Creating pipelines of data transformations\n",
        "\n",
        "7. What are the advantages of using generators over regular functions?\n",
        "  - Advantages of Generators\n",
        "1. Memory Efficiency:\n",
        "Generators: Produce values on demand (lazy evaluation), storing only the current state and generating the next value when requested. This makes them highly memory-efficient, especially when dealing with large datasets or infinite sequences.\n",
        "Regular Functions: Typically compute and return the entire result at once, which can lead to high memory usage for large outputs.\n",
        "2. Improved Performance (in some cases):\n",
        "Generators: Can be faster in scenarios where you don't need the entire result immediately. They start producing values quickly and avoid the overhead of computing the entire sequence upfront.\n",
        "Regular Functions: Might be faster for small datasets or calculations where the entire result is needed.\n",
        "3. Representing Infinite Sequences:\n",
        "Generators: Can represent infinite sequences naturally since they only generate values as needed. This is not possible with regular functions that need to return a finite result.\n",
        "Regular Functions: Cannot represent infinite sequences directly.\n",
        "4. Pipelining:\n",
        "Generators: Can be easily chained together (pipelined) to perform a series of operations on data, improving code readability and organization.\n",
        "Regular Functions: Chaining multiple functions can be less elegant and may involve intermediate data structures.\n",
        "5. Readability and Maintainability:\n",
        "Generators: Often lead to more concise and readable code, especially for complex iterations. The use of yield makes the logic of generating values more explicit.\n",
        "Regular Functions: Might require more complex logic to handle iterations and state management.\n",
        "Example:\n",
        "Let's consider a scenario where you need to process a large file containing millions of lines:\n",
        "\n",
        "Regular Function: Would read the entire file into memory, process it, and then return the result. This could lead to memory issues if the file is too large.\n",
        "Generator: Would read and process the file line by line, yielding each processed line. This would significantly reduce memory usage as it only stores the current line being processed.\n",
        "When to Choose Generators\n",
        "When dealing with large datasets or infinite sequences where memory efficiency is crucial.\n",
        "When you only need to iterate over the data once or don't need the entire result at once.\n",
        "When representing a sequence of values that can be generated on demand.\n",
        "When creating pipelines of data transformations for better code organization.\n",
        "When to Choose Regular Functions\n",
        "When you need the entire result at once or need to access elements randomly.\n",
        "When performance is critical for small datasets or calculations.\n",
        "When the logic of generating values is very complex and not easily expressed with yield.\n",
        "\n",
        "8. What is a lambda function in Python and when is it typically used?\n",
        "  - Lambda Functions\n",
        "Lambda functions are anonymous, small, and single-expression functions defined using the lambda keyword. They are also known as anonymous functions because they don't have a formal name like regular functions defined with def.\n",
        "\n",
        "Syntax\n",
        "\n",
        "lambda arguments: expression\n",
        "Use code with caution\n",
        "lambda: The keyword used to define a lambda function.\n",
        "arguments: Comma-separated input parameters.\n",
        "expression: A single expression that is evaluated and returned.\n",
        "Example\n",
        "\n",
        "square = lambda x: x * x  # Lambda function to square a number\n",
        "\n",
        "print(square(5))  # Output: 25\n",
        "Use code with caution\n",
        "In this example, square is a lambda function that takes one argument x and returns its square.\n",
        "\n",
        "When to Use Lambda Functions\n",
        "Lambda functions are typically used in situations where:\n",
        "\n",
        "Short, Simple Functions: When you need a small function for a specific task and don't want to define a full function using def.\n",
        "\n",
        "Higher-Order Functions: Lambda functions are often used as arguments to higher-order functions like map, filter, and reduce, which take functions as input.\n",
        "\n",
        "\n",
        "numbers = [1, 2, 3, 4, 5]\n",
        "   squares = list(map(lambda x: x * x, numbers))  # Using lambda with map\n",
        "   print(squares)  # Output: [1, 4, 9, 16, 25]\n",
        "Use code with caution\n",
        "One-Time Use: When you need a function for a specific task within a larger function or expression and don't want to define it separately.\n",
        "\n",
        "Callbacks: Lambda functions can be used as callbacks in event-driven programming or GUI development.\n",
        "\n",
        "Advantages of Lambda Functions\n",
        "Concise: They are shorter and more compact than regular functions.\n",
        "Readability: Can improve readability in some cases by making code more concise.\n",
        "Flexibility: They can be used as arguments to higher-order functions.\n",
        "Limitations of Lambda Functions\n",
        "Single Expression: Limited to a single expression, making them unsuitable for complex logic.\n",
        "No Statements: Cannot contain statements like loops or conditional statements.\n",
        "Readability (sometimes): Overuse can make code harder to read if the logic becomes too complex.\n",
        "Summary\n",
        "Lambda functions are useful for creating small, anonymous functions for specific tasks. They are often used with higher-order functions, for one-time use, or as callbacks. However, they are limited to single expressions and should be used judiciously to maintain code readability.\n",
        "\n",
        "9.  Explain the purpose and usage of the `map()` function in Python.\n",
        " Purpose of map()\n",
        "The map() function applies a given function to each item of an iterable (like a list, tuple, etc.) and returns an iterator that yields the results. It essentially provides a way to perform a transformation on each element of a sequence.\n",
        "\n",
        "Syntax\n",
        "\n",
        "map(function, iterable, ...)\n",
        "Use code with caution\n",
        "function: The function to apply to each element of the iterable.\n",
        "iterable: The iterable (list, tuple, etc.) whose elements will be processed.\n",
        "...: Optional, allows you to provide multiple iterables. If multiple iterables are given, the function must take that many arguments and is applied to the items from all iterables in parallel.\n",
        "Usage\n",
        "Applying a Function to Each Element:\n",
        "\n",
        "numbers = [1, 2, 3, 4, 5]\n",
        "   squares = list(map(lambda x: x * x, numbers))  # Square each number\n",
        "   print(squares)  # Output: [1, 4, 9, 16, 25]\n",
        "Use code with caution\n",
        "In this example, the lambda function lambda x: x * x is applied to each element of the numbers list using map(). The results are then converted to a list and stored in squares.\n",
        "\n",
        "Working with Multiple Iterables:\n",
        "\n",
        "list1 = [1, 2, 3]\n",
        "   list2 = [4, 5, 6]\n",
        "   sums = list(map(lambda x, y: x + y, list1, list2))  # Add corresponding elements\n",
        "   print(sums)  # Output: [5, 7, 9]\n",
        "Use code with caution\n",
        "Here, map() takes two iterables (list1 and list2) and a lambda function that adds corresponding elements from both lists.\n",
        "\n",
        "Advantages of Using map()\n",
        "Concise and Readable: It provides a clean and concise way to apply a function to a sequence of elements.\n",
        "Functional Programming Style: Encourages a functional approach to data processing.\n",
        "Lazy Evaluation: map() returns an iterator, meaning the results are generated on demand, improving efficiency for large datasets.\n",
        "Important Considerations\n",
        "Python 3: In Python 3, map() returns an iterator, so you need to convert it to a list or tuple using list(map(...)) or tuple(map(...)) if you want to access all the results.\n",
        "Alternatives: List comprehensions and generator expressions can often be used as alternatives to map() for simple transformations, providing similar functionality with a slightly different syntax.\n",
        "\n",
        "10. What is the difference between `map()`, `reduce()`, and `filter()` functions in Python?\n",
        " - the differences between map(), reduce(), and filter() in Python:\n",
        "\n",
        "These three functions are fundamental parts of functional programming in Python and provide ways to process iterables (like lists, tuples, etc.) in different ways.\n",
        "\n",
        "map()\n",
        "Purpose: Applies a given function to each item of an iterable and returns an iterator that yields the results.\n",
        "Transformation: It's mainly used for transforming elements of a sequence.\n",
        "Example:\n",
        "\n",
        "numbers = [1, 2, 3, 4, 5]\n",
        "   squares = list(map(lambda x: x * x, numbers))\n",
        "   print(squares)  # Output: [1, 4, 9, 16, 25]\n",
        "Use code with caution\n",
        "reduce()\n",
        "Purpose: Applies a function of two arguments cumulatively to the items of an iterable, reducing it to a single value.\n",
        "Aggregation: It's primarily used for aggregating or combining elements"
      ],
      "metadata": {
        "id": "jngrcj726hoG"
      }
    },
    {
      "cell_type": "code",
      "source": [],
      "metadata": {
        "id": "HNWbZZn1-ZKW"
      },
      "execution_count": null,
      "outputs": []
    },
    {
      "cell_type": "markdown",
      "source": [
        "### PRACTICAL QUESTIONS\n",
        "\n",
        "1. 1. Write a Python function that takes a list of numbers as input and returns the sum of all even numbers in\n",
        "the list."
      ],
      "metadata": {
        "id": "hBVaTI7M-afw"
      }
    },
    {
      "cell_type": "code",
      "source": [
        "def sum_of_even_numbers(numbers):\n",
        "    \"\"\"\n",
        "    Calculates the sum of all even numbers in a list.\n",
        "\n",
        "    Args:\n",
        "        numbers: A list of numbers.\n",
        "\n",
        "    Returns:\n",
        "        The sum of all even numbers in the list.\n",
        "    \"\"\"\n",
        "    total = 0\n",
        "    for number in numbers:\n",
        "        if number % 2 == 0:  # Check if the number is even\n",
        "            total += number\n",
        "    return total\n",
        "\n",
        "# Example usage\n",
        "numbers = [1, 2, 3, 4, 5, 6, 7, 8, 9, 10]\n",
        "even_sum = sum_of_even_numbers(numbers)\n",
        "print(f\"Sum of even numbers: {even_sum}\")  # Output: Sum of even numbers: 30"
      ],
      "metadata": {
        "colab": {
          "base_uri": "https://localhost:8080/"
        },
        "id": "WRlw0oR6-tjb",
        "outputId": "af4a2271-3665-4fe2-83ac-fbf6929ea6d8"
      },
      "execution_count": 5,
      "outputs": [
        {
          "output_type": "stream",
          "name": "stdout",
          "text": [
            "Sum of even numbers: 30\n"
          ]
        }
      ]
    },
    {
      "cell_type": "code",
      "source": [
        "2. Create a Python function that accepts a string and returns the reverse of that string."
      ],
      "metadata": {
        "id": "BzcNCc0T-yOz"
      },
      "execution_count": null,
      "outputs": []
    },
    {
      "cell_type": "code",
      "source": [
        "def reverse_string(text):\n",
        "    \"\"\"\n",
        "    Reverses a given string.\n",
        "\n",
        "    Args:\n",
        "        text: The string to be reversed.\n",
        "\n",
        "    Returns:\n",
        "        The reversed string.\n",
        "    \"\"\"\n",
        "    return text[::-1]  # Using string slicing for reversal\n",
        "\n",
        "# Example usage\n",
        "string = \"hello\"\n",
        "reversed_string = reverse_string(string)\n",
        "print(f\"Reversed string: {reversed_string}\")  # Output: Reversed string: olleh"
      ],
      "metadata": {
        "colab": {
          "base_uri": "https://localhost:8080/"
        },
        "id": "q5Ywf9ib_A2s",
        "outputId": "c186795e-82c0-471f-e534-d909f98c4182"
      },
      "execution_count": 6,
      "outputs": [
        {
          "output_type": "stream",
          "name": "stdout",
          "text": [
            "Reversed string: olleh\n"
          ]
        }
      ]
    },
    {
      "cell_type": "markdown",
      "source": [
        "3. Implement a Python function that takes a list of integers and returns a new list containing the squares of\n",
        "each number."
      ],
      "metadata": {
        "id": "qzRpvqok-8MG"
      }
    },
    {
      "cell_type": "code",
      "source": [
        "def square_numbers(numbers):\n",
        "    \"\"\"\n",
        "    Squares each number in a list and returns a new list.\n",
        "\n",
        "    Args:\n",
        "        numbers: A list of integers.\n",
        "\n",
        "    Returns:\n",
        "        A new list containing the squares of each number.\n",
        "    \"\"\"\n",
        "    return [number * number for number in numbers]  # List comprehension\n",
        "\n",
        "# Example usage\n",
        "numbers = [1, 2, 3, 4, 5]\n",
        "squared_numbers = square_numbers(numbers)\n",
        "print(f\"Squared numbers: {squared_numbers}\")  # Output: Squared numbers: [1, 4, 9, 16, 25]"
      ],
      "metadata": {
        "colab": {
          "base_uri": "https://localhost:8080/"
        },
        "id": "4_KeE2DN_Uig",
        "outputId": "6a8c2372-cdd4-4d3f-bc64-08ab69cf961c"
      },
      "execution_count": 7,
      "outputs": [
        {
          "output_type": "stream",
          "name": "stdout",
          "text": [
            "Squared numbers: [1, 4, 9, 16, 25]\n"
          ]
        }
      ]
    },
    {
      "cell_type": "markdown",
      "source": [
        "4. Write a Python function that checks if a given number is prime or not from 1 to 200."
      ],
      "metadata": {
        "id": "n2mS7BQA_XSw"
      }
    },
    {
      "cell_type": "code",
      "source": [
        "def is_prime(number):\n",
        "    \"\"\"\n",
        "    Checks if a number is prime within the range of 1 to 200.\n",
        "\n",
        "    Args:\n",
        "        number: The number to check.\n",
        "\n",
        "    Returns:\n",
        "        True if the number is prime, False otherwise.\n",
        "    \"\"\"\n",
        "    if number <= 1:\n",
        "        return False  # Numbers less than or equal to 1 are not prime\n",
        "    if number <= 3:\n",
        "        return True  # 2 and 3 are prime\n",
        "    if number % 2 == 0 or number % 3 == 0:\n",
        "        return False  # Divisible by 2 or 3, not prime\n",
        "\n",
        "    i = 5\n",
        "    while i * i <= number:\n",
        "        if number % i == 0 or number % (i + 2) == 0:\n",
        "            return False\n",
        "        i += 6\n",
        "\n",
        "    return True\n",
        "\n",
        "# Example usage\n",
        "number = 17\n",
        "if is_prime(number):\n",
        "    print(f\"{number} is a prime number.\")\n",
        "else:\n",
        "    print(f\"{number} is not a prime number.\")"
      ],
      "metadata": {
        "colab": {
          "base_uri": "https://localhost:8080/"
        },
        "id": "iWQKImuG_oI0",
        "outputId": "50805cca-94f3-4867-c39f-491930891f51"
      },
      "execution_count": 9,
      "outputs": [
        {
          "output_type": "stream",
          "name": "stdout",
          "text": [
            "17 is a prime number.\n"
          ]
        }
      ]
    },
    {
      "cell_type": "markdown",
      "source": [
        "5. Create an iterator class in Python that generates the Fibonacci sequence up to a specified number of\n",
        "terms.\n",
        "\n"
      ],
      "metadata": {
        "id": "mfxM1p_A_4Hs"
      }
    },
    {
      "cell_type": "code",
      "source": [
        "class FibonacciIterator:\n",
        "    def __init__(self, num_terms):\n",
        "        self.num_terms = num_terms\n",
        "        self.count = 0\n",
        "        self.a, self.b = 0, 1\n",
        "\n",
        "    def __iter__(self):\n",
        "        return self\n",
        "\n",
        "    def __next__(self):\n",
        "        if self.count < self.num_terms:\n",
        "            result = self.a\n",
        "            self.a, self.b = self.b, self.a + self.b\n",
        "            self.count += 1\n",
        "            return result\n",
        "        else:\n",
        "            raise StopIteration\n",
        "\n",
        "# Example usage\n",
        "fibonacci_iter = FibonacciIterator(10)  # Generate 10 terms\n",
        "\n",
        "for number in fibonacci_iter:\n",
        "    print(number)"
      ],
      "metadata": {
        "colab": {
          "base_uri": "https://localhost:8080/"
        },
        "id": "-f7ScnCt_sJl",
        "outputId": "9fbf2758-cb5b-48e1-effb-78ff95dfc3f1"
      },
      "execution_count": 10,
      "outputs": [
        {
          "output_type": "stream",
          "name": "stdout",
          "text": [
            "0\n",
            "1\n",
            "1\n",
            "2\n",
            "3\n",
            "5\n",
            "8\n",
            "13\n",
            "21\n",
            "34\n"
          ]
        }
      ]
    },
    {
      "cell_type": "markdown",
      "source": [
        "6. Write a generator function in Python that yields the powers of 2 up to a given exponent."
      ],
      "metadata": {
        "id": "hrfGJ25vAHBS"
      }
    },
    {
      "cell_type": "code",
      "source": [
        "def powers_of_two(exponent):\n",
        "    \"\"\"\n",
        "    Generates the powers of 2 up to a given exponent.\n",
        "\n",
        "    Args:\n",
        "        exponent: The maximum exponent.\n",
        "\n",
        "    Yields:\n",
        "        The next power of 2.\n",
        "    \"\"\"\n",
        "    for i in range(exponent + 1):\n",
        "        yield 2 ** i\n",
        "\n",
        "# Example usage\n",
        "for power in powers_of_two(5):\n",
        "    print(power)"
      ],
      "metadata": {
        "colab": {
          "base_uri": "https://localhost:8080/"
        },
        "id": "ut5uPpw1AEMl",
        "outputId": "b06fa387-bb41-4d36-a0fc-2ad35ca04070"
      },
      "execution_count": 11,
      "outputs": [
        {
          "output_type": "stream",
          "name": "stdout",
          "text": [
            "1\n",
            "2\n",
            "4\n",
            "8\n",
            "16\n",
            "32\n"
          ]
        }
      ]
    },
    {
      "cell_type": "markdown",
      "source": [
        "7. Implement a generator function that reads a file line by line and yields each line as a string."
      ],
      "metadata": {
        "id": "u5FoRuAFAXJQ"
      }
    },
    {
      "cell_type": "code",
      "source": [
        "def read_file_line_by_line(file_path):\n",
        "    \"\"\"\n",
        "    A generator function that reads a file line by line and yields each line as a string.\n",
        "\n",
        "    :param file_path: Path to the file to be read.\n",
        "    \"\"\"\n",
        "    try:\n",
        "        with open(file_path, 'r') as file:\n",
        "            for line in file:\n",
        "                yield line.strip()\n",
        "    except FileNotFoundError:\n",
        "        print(f\"Error: The file at '{file_path}' was not found.\")\n",
        "    except IOError as e:\n",
        "        print(f\"Error reading file: {e}\")\n"
      ],
      "metadata": {
        "id": "rnzsIdaoCIZF"
      },
      "execution_count": 20,
      "outputs": []
    },
    {
      "cell_type": "markdown",
      "source": [
        "8.  Use a lambda function in Python to sort a list of tuples based on the second element of each tuple."
      ],
      "metadata": {
        "id": "IDjtA96HCfYb"
      }
    },
    {
      "cell_type": "code",
      "source": [
        "# Sample list of tuples\n",
        "my_list = [('apple', 3), ('banana', 1), ('orange', 2)]\n",
        "\n",
        "# Sort the list using a lambda function as the key\n",
        "sorted_list = sorted(my_list, key=lambda item: item[1])\n",
        "\n",
        "# Print the sorted list\n",
        "print(sorted_list)  # Output: [('banana', 1), ('orange', 2), ('apple', 3)]"
      ],
      "metadata": {
        "colab": {
          "base_uri": "https://localhost:8080/"
        },
        "id": "BnChhZVqDZAV",
        "outputId": "4f55aa9d-d97a-46b9-9c13-d4d7cce91c4b"
      },
      "execution_count": 23,
      "outputs": [
        {
          "output_type": "stream",
          "name": "stdout",
          "text": [
            "[('banana', 1), ('orange', 2), ('apple', 3)]\n"
          ]
        }
      ]
    },
    {
      "cell_type": "code",
      "source": [
        "9. . Write a Python program that uses `map()` to convert a list of temperatures from Celsius to Fahrenheit"
      ],
      "metadata": {
        "id": "Q5f6xPPFCXfj"
      },
      "execution_count": null,
      "outputs": []
    },
    {
      "cell_type": "code",
      "source": [
        "def celsius_to_fahrenheit(celsius):\n",
        "    \"\"\"Converts Celsius to Fahrenheit.\"\"\"\n",
        "    return (celsius * 9/5) + 32\n",
        "\n",
        "# Sample list of Celsius temperatures\n",
        "celsius_temps = [0, 10, 20, 30, 40]\n",
        "\n",
        "# Use map() to apply the conversion function to each temperature\n",
        "fahrenheit_temps = list(map(celsius_to_fahrenheit, celsius_temps))\n",
        "\n",
        "# Print the results\n",
        "print(fahrenheit_temps)  # Output: [32.0, 50.0, 68.0, 86.0, 104.0]"
      ],
      "metadata": {
        "colab": {
          "base_uri": "https://localhost:8080/"
        },
        "id": "WgSeQf0ZDHgU",
        "outputId": "1025a809-061a-4b84-9a2b-488e2d61bbc6"
      },
      "execution_count": 22,
      "outputs": [
        {
          "output_type": "stream",
          "name": "stdout",
          "text": [
            "[32.0, 50.0, 68.0, 86.0, 104.0]\n"
          ]
        }
      ]
    },
    {
      "cell_type": "markdown",
      "source": [
        "10.  Create a Python program that uses `filter()` to remove all the vowels from a given string."
      ],
      "metadata": {
        "id": "TXrvkOWTDh3X"
      }
    },
    {
      "cell_type": "code",
      "source": [
        "def remove_vowels(text):\n",
        "    \"\"\"Removes vowels from a string using filter().\"\"\"\n",
        "    vowels = \"aeiouAEIOU\"\n",
        "    # Use filter() to keep only characters that are not vowels\n",
        "    filtered_chars = filter(lambda char: char not in vowels, text)\n",
        "    # Join the filtered characters back into a string\n",
        "    return \"\".join(filtered_chars)\n",
        "\n",
        "# Example usage\n",
        "text = \"Hello, world!\"\n",
        "result = remove_vowels(text)\n",
        "print(result)  # Output: Hll, wrld!"
      ],
      "metadata": {
        "colab": {
          "base_uri": "https://localhost:8080/"
        },
        "id": "6Y4nieg6Dx1r",
        "outputId": "b656823c-9d08-4463-8d5e-4eaeb2176197"
      },
      "execution_count": 25,
      "outputs": [
        {
          "output_type": "stream",
          "name": "stdout",
          "text": [
            "Hll, wrld!\n"
          ]
        }
      ]
    },
    {
      "cell_type": "code",
      "source": [
        "11. Imagine an accounting routine used in a book shop. It works on a list with sublists, which look like this\n",
        "\n",
        "ORDER NUMBER      BOOK TITLE AND AUTHOR                  QUANTITY         PRICE PER ITEM\n",
        "34587             LEARNING PYTHON , MARK LUTZ                4                40.95\n",
        "98762             PROGRAMMING PYTHON , MARK LUTZ             5                56.80\n",
        "77226             HEAD FIRST PYTHON , PAUL Barry             3                32.95\n",
        "88112             Einführung in Python3, Bernd Klein         3                24.99"
      ],
      "metadata": {
        "id": "C1KRWzfVDsJO"
      },
      "execution_count": null,
      "outputs": []
    },
    {
      "cell_type": "code",
      "source": [
        "# Input data\n",
        "bookshop_data = [\n",
        "    [34587, \"Learning Python, Mark Lutz\", 4, 40.95],\n",
        "    [98762, \"Programming Python, Mark Lutz\", 5, 56.80],\n",
        "    [77226, \"Head First Python, Paul Barry\", 3, 32.95],\n",
        "    [88112, \"Einführung in Python3, Bernd Klein\", 3, 24.99],\n",
        "]\n",
        "\n",
        "# Lambda function and map\n",
        "result = list(map(\n",
        "    lambda x: (x[0], x[2] * x[3] + 10) if x[2] * x[3] < 100 else (x[0], x[2] * x[3]),\n",
        "    bookshop_data\n",
        "))\n",
        "\n",
        "# Output the result\n",
        "print(result)\n"
      ],
      "metadata": {
        "colab": {
          "base_uri": "https://localhost:8080/"
        },
        "id": "7NHO5TIoFgX_",
        "outputId": "1b0bca8b-1ac1-439e-cef4-bf815b9fa201"
      },
      "execution_count": 26,
      "outputs": [
        {
          "output_type": "stream",
          "name": "stdout",
          "text": [
            "[(34587, 163.8), (98762, 284.0), (77226, 108.85000000000001), (88112, 84.97)]\n"
          ]
        }
      ]
    },
    {
      "cell_type": "markdown",
      "source": [
        "11. Write a Python program, which returns a list with 2-tuples. Each tuple consists of the order number and the\n",
        "product of the price per item and the quantity. The product should be increased by 10,- € if the value of the\n",
        "order is smaller than 100,00 €."
      ],
      "metadata": {
        "id": "2MT37ewRHIH-"
      }
    },
    {
      "cell_type": "code",
      "source": [
        "def process_orders(orders):\n",
        "    \"\"\"\n",
        "    Processes a list of orders and returns a list of tuples.\n",
        "\n",
        "    Args:\n",
        "        orders: A list of dictionaries, where each dictionary represents an order.\n",
        "                Each order dictionary should have keys: 'order_number', 'price_per_item',\n",
        "                and 'quantity'.\n",
        "\n",
        "    Returns:\n",
        "        A list of tuples, where each tuple contains the order number and the product of the\n",
        "        price per item and the quantity. The product is increased by 10,- € if the value\n",
        "        of the order is smaller than 100,00 €.\n",
        "    \"\"\"\n",
        "\n",
        "    processed_orders = []\n",
        "\n",
        "    for order in orders:\n",
        "        order_number = order['order_number']\n",
        "        price_per_item = order['price_per_item']\n",
        "        quantity = order['quantity']\n",
        "\n",
        "        product = price_per_item * quantity\n",
        "        if product < 100:\n",
        "            product += 10\n",
        "\n",
        "        processed_orders.append((order_number, product))\n",
        "\n",
        "    return processed_orders\n",
        "\n",
        "# Example usage:\n",
        "orders = [\n",
        "    {'order_number': 1, 'price_per_item': 25, 'quantity': 3},\n",
        "    {'order_number': 2, 'price_per_item': 10, 'quantity': 5},\n",
        "    {'order_number': 3, 'price_per_item': 50, 'quantity': 2}\n",
        "]\n",
        "\n",
        "result = process_orders(orders)\n",
        "print(result)  # Output: [(1, 75), (2, 60), (3, 100)]"
      ],
      "metadata": {
        "colab": {
          "base_uri": "https://localhost:8080/"
        },
        "id": "JoPNopzbFhYe",
        "outputId": "c91f96b5-fc57-4dd0-9d98-7eb129dda704"
      },
      "execution_count": 27,
      "outputs": [
        {
          "output_type": "stream",
          "name": "stdout",
          "text": [
            "[(1, 85), (2, 60), (3, 100)]\n"
          ]
        }
      ]
    },
    {
      "cell_type": "code",
      "source": [
        "13. Write a Python program using lambda and map"
      ],
      "metadata": {
        "id": "EXQqsyGoHYcr"
      },
      "execution_count": null,
      "outputs": []
    },
    {
      "cell_type": "code",
      "source": [
        "numbers = [1, 2, 3, 4, 5]\n",
        "\n",
        "# Use map with a lambda function to square each number\n",
        "squared_numbers = list(map(lambda x: x * x, numbers))\n",
        "\n",
        "# Print the squared numbers\n",
        "print(squared_numbers)  # Output: [1, 4, 9, 16, 25]"
      ],
      "metadata": {
        "colab": {
          "base_uri": "https://localhost:8080/"
        },
        "id": "sDwF4h_uHkTV",
        "outputId": "1d9586d3-fdd5-454d-d136-8dc43a27ee5e"
      },
      "execution_count": 28,
      "outputs": [
        {
          "output_type": "stream",
          "name": "stdout",
          "text": [
            "[1, 4, 9, 16, 25]\n"
          ]
        }
      ]
    },
    {
      "cell_type": "code",
      "source": [],
      "metadata": {
        "id": "IhW2bsAhHlKp"
      },
      "execution_count": null,
      "outputs": []
    }
  ]
}